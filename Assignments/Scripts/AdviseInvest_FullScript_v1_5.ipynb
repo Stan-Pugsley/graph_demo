{
  "cells": [
    {
      "cell_type": "markdown",
      "metadata": {
        "id": "view-in-github",
        "colab_type": "text"
      },
      "source": [
        "<a href=\"https://colab.research.google.com/github/Stan-Pugsley/graph_demo/blob/main/Assignments/Scripts/AdviseInvest_FullScript_v1_5.ipynb\" target=\"_parent\"><img src=\"https://colab.research.google.com/assets/colab-badge.svg\" alt=\"Open In Colab\"/></a>"
      ]
    },
    {
      "cell_type": "markdown",
      "metadata": {
        "id": "p_Yu45OYdj3Y"
      },
      "source": [
        "# AdviseInvest\n",
        "\n",
        "## Outline\n",
        "\n",
        "Our Goals with this Project:\n",
        "\n",
        "1. Import and review the data\n",
        "2. Perform EDA and Clean Data\n",
        "3. Fit a model\n",
        "4. Test the accuracy of the model\n",
        "6.  Use the model to predict on a new dataset (without the target)\n",
        "\n",
        "<a href=\"https://colab.research.google.com/github/Stan-Pugsley/is_4487_base/blob/main/Assignments/Scripts/advise_invest_full.ipynb\" target=\"_parent\"><img src=\"https://colab.research.google.com/assets/colab-badge.svg\" alt=\"Open In Colab\"/></a>"
      ]
    },
    {
      "cell_type": "markdown",
      "metadata": {
        "id": "OZrtT0lUaEUT"
      },
      "source": [
        "## AdviseInvest Data Dictionary\n",
        "\n",
        "Variable    |Description |Type    |Code\n",
        "---- | ------- | ------ | -----\n",
        "Answered       | Customer response |    Binary    |0: customer did not answer scheduled call; 1: customer answered scheduled call\n",
        "Income       | Customer income in US dollars|\tNumeric\n",
        "Female       | Customer gender|\tBinary\t0: female; 1: male\n",
        "Age\t         | Age in years|\tNumeric\n",
        "Job          | Nature of job|\tCategorical|\t0 : unemployed; 1 : entry level position; 2 : midlevel position; 3 : management/ self-employed/ highly qualified employee/ officer\n",
        "Num_dependents | Number of people for whom the customer provides maintenance|\tNumeric\n",
        "Rent\t| Customer rents\t|Binary\t|0: no; 1: yes\n",
        "Own_res\t| Customer owns residence|\tBinary|\t0: no; 1: yes\n",
        "New_car| Recent new car purchase\t|Binary|\tNew car purchase in the last 3 months: 0: no, 1: yes\n",
        "Chk_acct | Checking account status\t|Categorical|\t0 : no checking account; 1: checking < 200 USD; 2 : 200 < checking < 2000 USD; 3: 2000 < checking < 35000 USD; 4: >= 3500 USD\n",
        "Sav_acct\t| Average balance in savings account|\tCategorical|\t0 : no savings account; 1 : 100 <= savings < 500 USD; 2 : 500 <= savings < 2000 USD; 3 : 2000 < savings < 35000 USD; 4: >= 3500 USD\n",
        "Num_accts\t| Number of accounts owned by customer\t|Numeric\n",
        "Mobile\t| Mobile phone\t|Binary\t|0: customer provided non‐mobile phone for follow‐up call; 1: customer provided mobile phone for follow‐up call\n",
        "Product| Type of product purchased after conversation with sales rep\t|Categorical|\t0: customer did not answer call; 1: customer answered but did not purchase a product; 2: customer answered and purchased Beginner plan; 3: customer answered and purchased Intermediate plan; 4: customer answered and purchased Advanced plan\n",
        "\n"
      ]
    },
    {
      "cell_type": "markdown",
      "metadata": {
        "id": "UE93RwXhgiJS"
      },
      "source": [
        "##Load Libraries\n",
        "\n",
        "In this class we will be using\n",
        "- Pandas\n",
        "- Scikitlearn\n",
        "- Matplotlib\n"
      ]
    },
    {
      "cell_type": "code",
      "execution_count": null,
      "metadata": {
        "id": "JYRZY5n0gfNe"
      },
      "outputs": [],
      "source": [
        "import pandas as pd\n",
        "import matplotlib as mpl\n",
        "import seaborn as sns\n",
        "\n",
        "from sklearn.model_selection import train_test_split\n",
        "from sklearn.tree import DecisionTreeClassifier, export_graphviz # Import Decision Tree Classifier\n",
        "from sklearn import metrics  #Import scikit-learn metrics module for accuracy calculation\n",
        "from sklearn.metrics import confusion_matrix\n",
        "import matplotlib.pyplot as plt\n"
      ]
    },
    {
      "cell_type": "markdown",
      "metadata": {
        "id": "bREaXo8jfu-O"
      },
      "source": [
        "## Import Data into Dataframe\n",
        "\n",
        " - Import data from the Megatelco dataset into a dataframe (in GitHub go to Assignments > DataSets)\n",
        " - Describe or profile the dataframe\n"
      ]
    },
    {
      "cell_type": "code",
      "execution_count": null,
      "metadata": {
        "id": "6_FwprxVgR0e"
      },
      "outputs": [],
      "source": [
        "df = pd.read_csv('https://github.com/Stan-Pugsley/is_4487_base/blob/main/Assignments/DataSets/adviseinvest.csv?raw=true')\n",
        "print (df)"
      ]
    },
    {
      "cell_type": "code",
      "source": [
        "df.info()"
      ],
      "metadata": {
        "id": "0wkRD0aBa_H7"
      },
      "execution_count": null,
      "outputs": []
    },
    {
      "cell_type": "code",
      "source": [
        "df.describe()"
      ],
      "metadata": {
        "id": "QkKLnfFrbEOS"
      },
      "execution_count": null,
      "outputs": []
    },
    {
      "cell_type": "markdown",
      "metadata": {
        "id": "BtxOWvFlKzgE"
      },
      "source": [
        "## Clean up the data\n",
        "- Remove the product variable.  It is not relevant to our analysis (that step is after the answer).\n",
        "- Clean up the data in a  new datafram named \"df_clean\"\n"
      ]
    },
    {
      "cell_type": "code",
      "execution_count": null,
      "metadata": {
        "id": "7KXLvMcBK8Za"
      },
      "outputs": [],
      "source": [
        "#delete rows with outlier data; put it in a new dataframe\n",
        "df_clean = df[(df['income'] > 0) & (df['num_accts'] < 5) ]\n",
        "\n",
        "#remove product\n",
        "df_clean = df_clean.drop('product', axis=1)\n",
        "\n",
        "#delete any rows with missing values in the clean dataframe\n",
        "df_clean = df_clean.dropna()\n",
        "\n",
        "df_clean.describe()"
      ]
    },
    {
      "cell_type": "markdown",
      "metadata": {
        "id": "Zp7wGDqJ4iuL"
      },
      "source": [
        "# Standardize attributes\n",
        "\n",
        " - Change answered to yes/no categorical\n",
        " - Convert new_car to integer"
      ]
    },
    {
      "cell_type": "code",
      "execution_count": null,
      "metadata": {
        "id": "gvMekcKg4y5X"
      },
      "outputs": [],
      "source": [
        "# Create the new variable 'answered_cat' based on the values in 'answered'\n",
        "df_clean['answered_cat'] = df_clean['answered'].astype('str')\n",
        "\n",
        "# Replace values\n",
        "df_clean['answered_cat'] = df_clean['answered_cat'].replace('0', 'no')\n",
        "df_clean['answered_cat'] = df_clean['answered_cat'].replace('1', 'yes')\n",
        "\n",
        "df_clean['new_car'] = df_clean['new_car'].astype('int')\n",
        "\n",
        "df_clean.head(10)"
      ]
    },
    {
      "cell_type": "markdown",
      "metadata": {
        "id": "AuB0G9gJt7gn"
      },
      "source": [
        "# Convert attributes to categorical\n",
        "\n",
        "- female\n",
        "- job\n",
        "- rent\n",
        "- own_res\n",
        "- new_car\n",
        "- mobile\n",
        "- chk_acct\n",
        "- sav_acct\n",
        "\n",
        "Create a new categorical variable for answered"
      ]
    },
    {
      "cell_type": "code",
      "source": [
        "df_clean['female'] = df_clean['female'].astype('category')\n",
        "df_clean['job'] = df_clean['job'].astype('category')\n",
        "df_clean['rent'] = df_clean['rent'].astype('category')\n",
        "df_clean['own_res'] = df_clean['own_res'].astype('category')\n",
        "df_clean['new_car'] = df_clean['new_car'].astype('category')\n",
        "df_clean['mobile'] = df_clean['mobile'].astype('category')\n",
        "df_clean['chk_acct'] = df_clean['chk_acct'].astype('category')\n",
        "df_clean['sav_acct'] = df_clean['sav_acct'].astype('category')\n",
        "df_clean['answered_cat'] = df_clean['answered'].astype('category')\n",
        "\n",
        "df_clean.info()"
      ],
      "metadata": {
        "id": "CaT_JTHOdeoF"
      },
      "execution_count": null,
      "outputs": []
    },
    {
      "cell_type": "markdown",
      "metadata": {
        "id": "SxpDe4NWKb3H"
      },
      "source": [
        "# What is the base probability of answering?\n",
        "\n",
        "If we use no model at all, how good is our chance of predicting someone leaving?"
      ]
    },
    {
      "cell_type": "code",
      "execution_count": null,
      "metadata": {
        "id": "g6JlH3TiKk16"
      },
      "outputs": [],
      "source": [
        "df_clean['answered'].mean()"
      ]
    },
    {
      "cell_type": "markdown",
      "metadata": {
        "id": "0kqsDDZEt4iL"
      },
      "source": [
        "#Split the training and testing datasets\n",
        "\n",
        "- split df_clean using train_test_split function\n",
        "- all variables except answered should be in the x variable\n",
        "- answered is in the y variable\n"
      ]
    },
    {
      "cell_type": "code",
      "source": [
        "y = df_clean['answered_cat']\n",
        "X = df_clean.drop(['answered','answered_cat'], axis=1)\n",
        "\n",
        "# Split data into training and testing sets\n",
        "X_train, X_test, y_train, y_test = train_test_split(X, y, test_size=0.2, random_state=59)"
      ],
      "metadata": {
        "id": "b-wswJqUjsYK"
      },
      "execution_count": null,
      "outputs": []
    },
    {
      "cell_type": "markdown",
      "metadata": {
        "id": "SoJLJMlceORN"
      },
      "source": [
        "## Fit a basic tree model\n",
        "\n",
        "Use all available attributes, except product"
      ]
    },
    {
      "cell_type": "code",
      "execution_count": null,
      "metadata": {
        "id": "WBH7aRXbOUf4"
      },
      "outputs": [],
      "source": [
        "tree = DecisionTreeClassifier(criterion=\"entropy\", max_depth=4)\n",
        "\n",
        "# Create Decision Tree Classifer\n",
        "tree = tree.fit(X_train,y_train)\n",
        "\n",
        "# Use the tree to predict \"leave\"\n",
        "y_predict = tree.predict(X_test)"
      ]
    },
    {
      "cell_type": "markdown",
      "metadata": {
        "id": "kS4-f2osS0s0"
      },
      "source": [
        "## What is the accuracy?\n",
        "\n",
        "Is it better than the 54.6% base probability?"
      ]
    },
    {
      "cell_type": "code",
      "execution_count": null,
      "metadata": {
        "id": "kl_KUqeqS6Nf"
      },
      "outputs": [],
      "source": [
        "print(\"Accuracy:\",metrics.accuracy_score(y_test, y_predict))"
      ]
    },
    {
      "cell_type": "markdown",
      "metadata": {
        "id": "-I66jKusS_Xe"
      },
      "source": [
        "# Create a confusion matrix\n",
        "\n",
        "This will show false positives, true positives, etc."
      ]
    },
    {
      "cell_type": "code",
      "execution_count": null,
      "metadata": {
        "id": "l_dKmgjmTGsj"
      },
      "outputs": [],
      "source": [
        "# create a confusion matrix\n",
        "tree_matrix = confusion_matrix(y_test, y_predict)\n",
        "print(tree_matrix)"
      ]
    },
    {
      "cell_type": "markdown",
      "source": [
        "Create a more interpretable version of the matrix"
      ],
      "metadata": {
        "id": "K9VwS6ziiwx7"
      }
    },
    {
      "cell_type": "code",
      "source": [
        "cm = sns.heatmap(tree_matrix, annot=True, fmt=\"d\") #fmt will make sure the numbers are formatted as integers\n",
        "cm.set_title('Confusion Matrix')\n",
        "plt.ylabel('Observed (Actual)')\n",
        "plt.xlabel('Predicted')\n",
        "cm.xaxis.set_ticklabels(['Yes','No'])\n",
        "cm.yaxis.set_ticklabels(['Yes','No'])\n",
        "plt.show()"
      ],
      "metadata": {
        "id": "z1MOx-sCi4kF"
      },
      "execution_count": null,
      "outputs": []
    },
    {
      "cell_type": "markdown",
      "metadata": {
        "id": "vTC161_b9kWm"
      },
      "source": [
        "## Calculate Profit\n",
        "\n",
        "One of the simplifying assumptions we will make in this project is that all the customers who answer the phone will purchase a product. (This assumption is actually verified by the data.) To model \"answered\" in this case is therefore equivalent to modeling \"purchased.\"\n",
        "\n",
        "There are costs and benefits in this case. We will assume that customers purchase a product for \\$100 dollars. This was the average cost of AdviseInvest products, according to the Director of Sales.  Also, as we learned in the interview, the agent time to make the sale is worth \\$25. Profit would therefore be \\$75 dollars for an answered call and a purchase. In sum:\n",
        "\n",
        "**Benefit**: True positive. The customer is predicted to answer, does answer, and purchases a product for \\$100 for a profit of 100 - 25 = \\$75.\n",
        "\n",
        "**Cost**: False positive. The customer is predicted to answer, but does not answer, so there is a loss of \\$25. (We assume the agent cannot schedule another call at the last minute, or spends the entire time slot trying to make the call.)\n",
        "\n",
        "For this exercise, we propose that customers who are not predicted to answer will not be called, so there would be no benefits and no costs for them.  "
      ]
    },
    {
      "cell_type": "code",
      "execution_count": null,
      "metadata": {
        "id": "y3BHSJu-9s8z"
      },
      "outputs": [],
      "source": [
        "# True answered * 75 -> These people purchased\n",
        "# False answered * 25 -> You can't schedule another call\n",
        "(2218 * 75) - (1130 * 25)\n"
      ]
    },
    {
      "cell_type": "markdown",
      "source": [
        "# Default Profit\n",
        "\n",
        "How much profit (revenue - costs) could be expected if all customers are called? We can consider this a baseline case for profit since it does not require a model.\n",
        "\n",
        "In other words, to calculate profit in this baseline scenario treat the customers who answer as true positives treat the customers who do not answer as false positives."
      ],
      "metadata": {
        "id": "GrqwIDNXmwN8"
      }
    },
    {
      "cell_type": "code",
      "source": [
        "((2218+459) * 75) - ((1130+2093) * 25)"
      ],
      "metadata": {
        "id": "ak1I_A2HmvUF"
      },
      "execution_count": null,
      "outputs": []
    },
    {
      "cell_type": "markdown",
      "source": [
        "##Did we improve our profit using the model?"
      ],
      "metadata": {
        "id": "MzLoM10Eo2j3"
      }
    }
  ],
  "metadata": {
    "colab": {
      "provenance": [],
      "include_colab_link": true
    },
    "kernelspec": {
      "display_name": "Python 3",
      "name": "python3"
    },
    "language_info": {
      "name": "python"
    }
  },
  "nbformat": 4,
  "nbformat_minor": 0
}